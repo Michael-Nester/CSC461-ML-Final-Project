{
  "nbformat": 4,
  "nbformat_minor": 0,
  "metadata": {
    "colab": {
      "provenance": []
    },
    "kernelspec": {
      "name": "python3",
      "display_name": "Python 3"
    },
    "language_info": {
      "name": "python"
    }
  },
  "cells": [
    {
      "cell_type": "markdown",
      "source": [
        "# UBIRIS_v2 Labelling Script\n",
        "\n",
        "Although the UBIRIS_V2 dataset contains great data, with around 11100 images of eyes in high quality AND in color (most are in infrared or B&W), there are no labels for the images besides the subject id. So, for supervised learning, we needed to add color labels to every image. The code below was ran in visual studio, and the images_folder path was updated to contain a folder of the entire dataset. The code displays one image, and prompts the user to enter the color label, wich is then written to the desired csv file path along with the corresponding image name."
      ],
      "metadata": {
        "id": "RottUQLYGOkf"
      }
    },
    {
      "cell_type": "code",
      "execution_count": null,
      "metadata": {
        "colab": {
          "base_uri": "https://localhost:8080/",
          "height": 418
        },
        "id": "d3nqiKrEeELA",
        "outputId": "6d7f3cb4-05a0-4860-9dac-08580f3b343b"
      },
      "outputs": [
        {
          "output_type": "error",
          "ename": "DisabledFunctionError",
          "evalue": "cv2.imshow() is disabled in Colab, because it causes Jupyter sessions\nto crash; see https://github.com/jupyter/notebook/issues/3935.\nAs a substitution, consider using\n  from google.colab.patches import cv2_imshow\n",
          "traceback": [
            "\u001b[0;31m---------------------------------------------------------------------------\u001b[0m",
            "\u001b[0;31mDisabledFunctionError\u001b[0m                     Traceback (most recent call last)",
            "\u001b[0;32m<ipython-input-3-fbc41cc9ae82>\u001b[0m in \u001b[0;36m<cell line: 23>\u001b[0;34m()\u001b[0m\n\u001b[1;32m     32\u001b[0m         \u001b[0;31m# Read and display the image\u001b[0m\u001b[0;34m\u001b[0m\u001b[0;34m\u001b[0m\u001b[0m\n\u001b[1;32m     33\u001b[0m         \u001b[0mimage\u001b[0m \u001b[0;34m=\u001b[0m \u001b[0mcv2\u001b[0m\u001b[0;34m.\u001b[0m\u001b[0mimread\u001b[0m\u001b[0;34m(\u001b[0m\u001b[0mimage_path\u001b[0m\u001b[0;34m)\u001b[0m\u001b[0;34m\u001b[0m\u001b[0;34m\u001b[0m\u001b[0m\n\u001b[0;32m---> 34\u001b[0;31m         \u001b[0mcv2\u001b[0m\u001b[0;34m.\u001b[0m\u001b[0mimshow\u001b[0m\u001b[0;34m(\u001b[0m\u001b[0;34m\"Image\"\u001b[0m\u001b[0;34m,\u001b[0m \u001b[0mimage\u001b[0m\u001b[0;34m)\u001b[0m\u001b[0;34m\u001b[0m\u001b[0;34m\u001b[0m\u001b[0m\n\u001b[0m\u001b[1;32m     35\u001b[0m         \u001b[0mprint\u001b[0m\u001b[0;34m(\u001b[0m\u001b[0;34mf\"Image: {image_file}\"\u001b[0m\u001b[0;34m)\u001b[0m\u001b[0;34m\u001b[0m\u001b[0;34m\u001b[0m\u001b[0m\n\u001b[1;32m     36\u001b[0m         \u001b[0mprint\u001b[0m\u001b[0;34m(\u001b[0m\u001b[0;34mf\"Labels: {', '.join(labels)}\"\u001b[0m\u001b[0;34m)\u001b[0m\u001b[0;34m\u001b[0m\u001b[0;34m\u001b[0m\u001b[0m\n",
            "\u001b[0;32m/usr/local/lib/python3.10/dist-packages/google/colab/_import_hooks/_cv2.py\u001b[0m in \u001b[0;36mwrapped\u001b[0;34m(*args, **kwargs)\u001b[0m\n\u001b[1;32m     46\u001b[0m   \u001b[0;32mdef\u001b[0m \u001b[0mwrapped\u001b[0m\u001b[0;34m(\u001b[0m\u001b[0;34m*\u001b[0m\u001b[0margs\u001b[0m\u001b[0;34m,\u001b[0m \u001b[0;34m**\u001b[0m\u001b[0mkwargs\u001b[0m\u001b[0;34m)\u001b[0m\u001b[0;34m:\u001b[0m\u001b[0;34m\u001b[0m\u001b[0;34m\u001b[0m\u001b[0m\n\u001b[1;32m     47\u001b[0m     \u001b[0;32mif\u001b[0m \u001b[0;32mnot\u001b[0m \u001b[0mos\u001b[0m\u001b[0;34m.\u001b[0m\u001b[0menviron\u001b[0m\u001b[0;34m.\u001b[0m\u001b[0mget\u001b[0m\u001b[0;34m(\u001b[0m\u001b[0menv_var\u001b[0m\u001b[0;34m,\u001b[0m \u001b[0;32mFalse\u001b[0m\u001b[0;34m)\u001b[0m\u001b[0;34m:\u001b[0m\u001b[0;34m\u001b[0m\u001b[0;34m\u001b[0m\u001b[0m\n\u001b[0;32m---> 48\u001b[0;31m       \u001b[0;32mraise\u001b[0m \u001b[0mDisabledFunctionError\u001b[0m\u001b[0;34m(\u001b[0m\u001b[0mmessage\u001b[0m\u001b[0;34m,\u001b[0m \u001b[0mname\u001b[0m \u001b[0;32mor\u001b[0m \u001b[0mfunc\u001b[0m\u001b[0;34m.\u001b[0m\u001b[0m__name__\u001b[0m\u001b[0;34m)\u001b[0m\u001b[0;34m\u001b[0m\u001b[0;34m\u001b[0m\u001b[0m\n\u001b[0m\u001b[1;32m     49\u001b[0m     \u001b[0;32mreturn\u001b[0m \u001b[0mfunc\u001b[0m\u001b[0;34m(\u001b[0m\u001b[0;34m*\u001b[0m\u001b[0margs\u001b[0m\u001b[0;34m,\u001b[0m \u001b[0;34m**\u001b[0m\u001b[0mkwargs\u001b[0m\u001b[0;34m)\u001b[0m\u001b[0;34m\u001b[0m\u001b[0;34m\u001b[0m\u001b[0m\n\u001b[1;32m     50\u001b[0m \u001b[0;34m\u001b[0m\u001b[0m\n",
            "\u001b[0;31mDisabledFunctionError\u001b[0m: cv2.imshow() is disabled in Colab, because it causes Jupyter sessions\nto crash; see https://github.com/jupyter/notebook/issues/3935.\nAs a substitution, consider using\n  from google.colab.patches import cv2_imshow\n"
          ],
          "errorDetails": {
            "actions": [
              {
                "action": "open_snippet",
                "actionText": "Search Snippets for cv2.imshow",
                "snippetFilter": "cv2.imshow"
              }
            ]
          }
        }
      ],
      "source": [
        "#Labelling test 1\n",
        "#generated with chatgpt\n",
        "#starting with small file, 67 images\n",
        "\n",
        "\n",
        "import os\n",
        "import cv2\n",
        "import csv\n",
        "\n",
        "\n",
        "\n",
        "# Set the path to your images folder\n",
        "images_folder = \"/content/drive/MyDrive/ML final project/datasets/drive-download-20241111T184328Z-001/\"\n",
        "output_csv = \"/content/drive/MyDrive/ML final project/datasets/iris_labels.csv\"\n",
        "\n",
        "# Define possible labels\n",
        "labels = [\"blue\", \"green\", \"brown\", \"hazel\", \"gray\"]\n",
        "\n",
        "# Load all image file names\n",
        "image_files = [f for f in os.listdir(images_folder) if f.endswith(('.jpg'))]\n",
        "\n",
        "# Open or create the CSV file for saving labels\n",
        "with open(output_csv, \"a\", newline=\"\") as csvfile:\n",
        "    writer = csv.writer(csvfile)\n",
        "    # Write header if starting a new file\n",
        "    if os.stat(output_csv).st_size == 0:\n",
        "        writer.writerow([\"filename\", \"label\"])\n",
        "\n",
        "    # Iterate through images\n",
        "    for image_file in image_files:\n",
        "        image_path = os.path.join(images_folder, image_file)\n",
        "        # Read and display the image\n",
        "        image = cv2.imread(image_path)\n",
        "        cv2.imshow(\"Image\", image)\n",
        "        print(f\"Image: {image_file}\")\n",
        "        print(f\"Labels: {', '.join(labels)}\")\n",
        "\n",
        "        # Capture user input for labeling\n",
        "        label = input(\"Enter the label: \").strip().lower()\n",
        "        while label not in labels:\n",
        "            print(\"Invalid label. Please enter a valid label.\")\n",
        "            label = input(\"Enter the label: \").strip().lower()\n",
        "\n",
        "        # Write the label to the CSV file\n",
        "        writer.writerow([image_file, label])\n",
        "\n",
        "        # Close the image window\n",
        "        cv2.destroyAllWindows()"
      ]
    }
  ]
}